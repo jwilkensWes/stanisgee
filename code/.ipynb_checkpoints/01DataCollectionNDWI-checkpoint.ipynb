{
 "cells": [
  {
   "cell_type": "markdown",
   "id": "56b0c961",
   "metadata": {},
   "source": [
    "### Data Collection\n",
    "\n",
    "This notebook is designed to be run multiple times for each year desired. \n",
    "Returns Landsat NDWI imagry in a specified google drive folder. \n",
    "All parameters may be changed but as is the images are named L8NDWI_yyyymmd.\n",
    "Please note that google earth engine's catlog of landsat imagry only goes up to 2022-01-01"
   ]
  },
  {
   "cell_type": "code",
   "execution_count": 1,
   "id": "0da00ad0-8c0c-439d-a90f-f3c325e50132",
   "metadata": {},
   "outputs": [],
   "source": [
    "## Initalize Earth Engine Client\n",
    "\n",
    "# import earth engine package\n",
    "import ee\n",
    "# initialize the library.\n",
    "ee.Initialize()\n",
    "\n",
    "# import geetools to facilitate image export\n",
    "import geetools"
   ]
  },
  {
   "cell_type": "code",
   "execution_count": 28,
   "id": "69f449bc-bf5c-4f00-9782-a46b06827609",
   "metadata": {},
   "outputs": [],
   "source": [
    "## Collection Parameters\n",
    "\n",
    "# start of desired collection\n",
    "startDate = ('2006-06-01')\n",
    "# end of desired collection\n",
    "endDate = ('2006-10-31')\n",
    "# folder where data is to be stored\n",
    "folderName = 'stan06'\n",
    "\n",
    "# area to be collected\n",
    "interestArea = ee.FeatureCollection('projects/poulos-gee/assets/Stanislaus_Area_Polygon').geometry()\n",
    "# naming pattern for eventual output\n",
    "npattern = 'L7NDWI_{id}' # make sure to update L8 or L7 based on year"
   ]
  },
  {
   "cell_type": "code",
   "execution_count": 27,
   "id": "1d68e58f-259d-48bc-b5e8-6c792c9968f4",
   "metadata": {},
   "outputs": [],
   "source": [
    "## Image Export\n",
    "\n",
    "# pull full image collection and sort by desired dats\n",
    "ndwicol = ee.ImageCollection('LANDSAT/LE07/C01/T1_8DAY_NDWI').filter(ee.Filter.date(startDate, endDate))\n",
    "\n",
    "# send an export task to google earth engine and save files in image collection to google drive\n",
    "task = geetools.batch.Export.imagecollection.toDrive(collection = ndwicol,\n",
    "                                                     folder = folderName,\n",
    "                                                     region = interestArea,\n",
    "                                                     namePattern = npattern,\n",
    "                                                     scale = 30,\n",
    "                                                     crs = 'EPSG:4326',\n",
    "                                                     fileFormat = 'GeoTIFF')"
   ]
  }
 ],
 "metadata": {
  "kernelspec": {
   "display_name": "Python 3 (ipykernel)",
   "language": "python",
   "name": "python3"
  },
  "language_info": {
   "codemirror_mode": {
    "name": "ipython",
    "version": 3
   },
   "file_extension": ".py",
   "mimetype": "text/x-python",
   "name": "python",
   "nbconvert_exporter": "python",
   "pygments_lexer": "ipython3",
   "version": "3.10.9"
  }
 },
 "nbformat": 4,
 "nbformat_minor": 5
}
