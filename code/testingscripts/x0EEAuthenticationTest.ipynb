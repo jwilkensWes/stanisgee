{
 "cells": [
  {
   "cell_type": "code",
   "execution_count": 1,
   "id": "72d0c9d3-8a42-4b32-8156-10e71a21335a",
   "metadata": {},
   "outputs": [],
   "source": [
    "## Earth Engine Authentication Test\n",
    "\n",
    "import ee\n",
    "\n",
    "ee.Initialize()"
   ]
  },
  {
   "cell_type": "code",
   "execution_count": 2,
   "id": "2bfaae59-266c-4c65-8f1b-56d351a569b5",
   "metadata": {},
   "outputs": [
    {
     "name": "stdout",
     "output_type": "stream",
     "text": [
      "{'type': 'Image', 'bands': [{'id': 'NDWI', 'data_type': {'type': 'PixelType', 'precision': 'float', 'min': -1, 'max': 1}, 'crs': 'EPSG:4326', 'crs_transform': [1, 0, 0, 0, 1, 0]}], 'version': 1658247301298495, 'id': 'LANDSAT/LC08/C01/T1_8DAY_NDWI/20190509', 'properties': {'system:time_start': 1557360000000, 'system:time_end': 1558051200000, 'system:index': '20190509'}}\n"
     ]
    }
   ],
   "source": [
    "image = ee.Image('LANDSAT/LC08/C01/T1_8DAY_NDWI/20190509')\n",
    "print(image.getInfo())"
   ]
  },
  {
   "cell_type": "code",
   "execution_count": null,
   "id": "d196e4c0-3347-4da5-88b6-125a5ccd2fc0",
   "metadata": {},
   "outputs": [],
   "source": []
  }
 ],
 "metadata": {
  "kernelspec": {
   "display_name": "Python 3 (ipykernel)",
   "language": "python",
   "name": "python3"
  },
  "language_info": {
   "codemirror_mode": {
    "name": "ipython",
    "version": 3
   },
   "file_extension": ".py",
   "mimetype": "text/x-python",
   "name": "python",
   "nbconvert_exporter": "python",
   "pygments_lexer": "ipython3",
   "version": "3.10.9"
  }
 },
 "nbformat": 4,
 "nbformat_minor": 5
}
