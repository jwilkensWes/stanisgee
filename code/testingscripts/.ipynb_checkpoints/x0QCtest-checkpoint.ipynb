{
 "cells": [
  {
   "cell_type": "code",
   "execution_count": 1,
   "id": "189e2755-5579-46c1-9f60-122f28eab60c",
   "metadata": {},
   "outputs": [],
   "source": [
    "## Initalize Earthn Engine Client\n",
    "\n",
    "# import earth engine package\n",
    "import ee\n",
    "# initialize the library.\n",
    "ee.Initialize()\n",
    "\n",
    "# import geetools to facilitate image export\n",
    "import geetools # may need to install"
   ]
  },
  {
   "cell_type": "code",
   "execution_count": 2,
   "id": "6b359bc8-097d-446e-beb2-dfe8963d8bbf",
   "metadata": {},
   "outputs": [
    {
     "name": "stdout",
     "output_type": "stream",
     "text": [
      "{'type': 'Polygon', 'coordinates': [[[-120.0093295124558, 38.171617291266394], [-120.00723375088874, 38.16755059611062], [-119.99794544070957, 38.17452021314548], [-119.9922956933151, 38.17558593766004], [-119.98071541933005, 38.17545658360351], [-119.97997522839557, 38.18148973453936], [-120.00375115016234, 38.18194014775521], [-120.00410340958932, 38.17823016919457], [-120.00868737307626, 38.17813207860271], [-120.0093295124558, 38.171617291266394]]]}\n"
     ]
    }
   ],
   "source": [
    "## Define Collection Parameters\n",
    "\n",
    "# start of desired collection\n",
    "startDate = ('2012-06-01')\n",
    "# end of desired collection\n",
    "endDate = ('2012-10-31')\n",
    "# area to be collected\n",
    "interestArea = ee.FeatureCollection('projects/poulos-gee/assets/Stanislaus_Area_Polygon').geometry()\n",
    "print(interestArea.getInfo()) # test if shapefile is sucessfully converted to a geometry object\n",
    "# naming pattern for eventual output\n",
    "npattern = 'L7NDWI_{id}' # make sure to update L8 or L7 based on year"
   ]
  },
  {
   "cell_type": "code",
   "execution_count": 4,
   "id": "31e61806-92a8-46d5-9983-d6485d883158",
   "metadata": {},
   "outputs": [
    {
     "name": "stdout",
     "output_type": "stream",
     "text": [
      "{'type': 'Image', 'bands': [{'id': 'NDWI', 'data_type': {'type': 'PixelType', 'precision': 'float', 'min': -1, 'max': 1}, 'crs': 'EPSG:4326', 'crs_transform': [1, 0, 0, 0, 1, 0]}]}\n",
      "{'type': 'ImageCollection', 'bands': [{'id': 'NDWI', 'data_type': {'type': 'PixelType', 'precision': 'float', 'min': -1, 'max': 1}}], 'version': 1658247289935615, 'id': 'LANDSAT/LE07/C01/T1_8DAY_NDWI', 'features': [{'type': 'Image', 'bands': [{'id': 'NDWI', 'data_type': {'type': 'PixelType', 'precision': 'float', 'min': -1, 'max': 1}, 'crs': 'EPSG:4326', 'crs_transform': [1, 0, 0, 0, 1, 0]}], 'version': 1658247289935615, 'id': 'LANDSAT/LE07/C01/T1_8DAY_NDWI/20120601', 'properties': {'system:time_start': 1338508800000, 'system:time_end': 1339200000000, 'system:index': '20120601'}}, {'type': 'Image', 'bands': [{'id': 'NDWI', 'data_type': {'type': 'PixelType', 'precision': 'float', 'min': -1, 'max': 1}, 'crs': 'EPSG:4326', 'crs_transform': [1, 0, 0, 0, 1, 0]}], 'version': 1658247289935615, 'id': 'LANDSAT/LE07/C01/T1_8DAY_NDWI/20120609', 'properties': {'system:time_start': 1339200000000, 'system:time_end': 1339891200000, 'system:index': '20120609'}}, {'type': 'Image', 'bands': [{'id': 'NDWI', 'data_type': {'type': 'PixelType', 'precision': 'float', 'min': -1, 'max': 1}, 'crs': 'EPSG:4326', 'crs_transform': [1, 0, 0, 0, 1, 0]}], 'version': 1658247289935615, 'id': 'LANDSAT/LE07/C01/T1_8DAY_NDWI/20120617', 'properties': {'system:time_start': 1339891200000, 'system:time_end': 1340582400000, 'system:index': '20120617'}}, {'type': 'Image', 'bands': [{'id': 'NDWI', 'data_type': {'type': 'PixelType', 'precision': 'float', 'min': -1, 'max': 1}, 'crs': 'EPSG:4326', 'crs_transform': [1, 0, 0, 0, 1, 0]}], 'version': 1658247289935615, 'id': 'LANDSAT/LE07/C01/T1_8DAY_NDWI/20120625', 'properties': {'system:time_start': 1340582400000, 'system:time_end': 1341273600000, 'system:index': '20120625'}}, {'type': 'Image', 'bands': [{'id': 'NDWI', 'data_type': {'type': 'PixelType', 'precision': 'float', 'min': -1, 'max': 1}, 'crs': 'EPSG:4326', 'crs_transform': [1, 0, 0, 0, 1, 0]}], 'version': 1658247289935615, 'id': 'LANDSAT/LE07/C01/T1_8DAY_NDWI/20120703', 'properties': {'system:time_start': 1341273600000, 'system:time_end': 1341964800000, 'system:index': '20120703'}}, {'type': 'Image', 'bands': [{'id': 'NDWI', 'data_type': {'type': 'PixelType', 'precision': 'float', 'min': -1, 'max': 1}, 'crs': 'EPSG:4326', 'crs_transform': [1, 0, 0, 0, 1, 0]}], 'version': 1658247289935615, 'id': 'LANDSAT/LE07/C01/T1_8DAY_NDWI/20120711', 'properties': {'system:time_start': 1341964800000, 'system:time_end': 1342656000000, 'system:index': '20120711'}}, {'type': 'Image', 'bands': [{'id': 'NDWI', 'data_type': {'type': 'PixelType', 'precision': 'float', 'min': -1, 'max': 1}, 'crs': 'EPSG:4326', 'crs_transform': [1, 0, 0, 0, 1, 0]}], 'version': 1658247289935615, 'id': 'LANDSAT/LE07/C01/T1_8DAY_NDWI/20120719', 'properties': {'system:time_start': 1342656000000, 'system:time_end': 1343347200000, 'system:index': '20120719'}}, {'type': 'Image', 'bands': [{'id': 'NDWI', 'data_type': {'type': 'PixelType', 'precision': 'float', 'min': -1, 'max': 1}, 'crs': 'EPSG:4326', 'crs_transform': [1, 0, 0, 0, 1, 0]}], 'version': 1658247289935615, 'id': 'LANDSAT/LE07/C01/T1_8DAY_NDWI/20120727', 'properties': {'system:time_start': 1343347200000, 'system:time_end': 1344038400000, 'system:index': '20120727'}}, {'type': 'Image', 'bands': [{'id': 'NDWI', 'data_type': {'type': 'PixelType', 'precision': 'float', 'min': -1, 'max': 1}, 'crs': 'EPSG:4326', 'crs_transform': [1, 0, 0, 0, 1, 0]}], 'version': 1658247289935615, 'id': 'LANDSAT/LE07/C01/T1_8DAY_NDWI/20120804', 'properties': {'system:time_start': 1344038400000, 'system:time_end': 1344729600000, 'system:index': '20120804'}}, {'type': 'Image', 'bands': [{'id': 'NDWI', 'data_type': {'type': 'PixelType', 'precision': 'float', 'min': -1, 'max': 1}, 'crs': 'EPSG:4326', 'crs_transform': [1, 0, 0, 0, 1, 0]}], 'version': 1658247289935615, 'id': 'LANDSAT/LE07/C01/T1_8DAY_NDWI/20120812', 'properties': {'system:time_start': 1344729600000, 'system:time_end': 1345420800000, 'system:index': '20120812'}}, {'type': 'Image', 'bands': [{'id': 'NDWI', 'data_type': {'type': 'PixelType', 'precision': 'float', 'min': -1, 'max': 1}, 'crs': 'EPSG:4326', 'crs_transform': [1, 0, 0, 0, 1, 0]}], 'version': 1658247289935615, 'id': 'LANDSAT/LE07/C01/T1_8DAY_NDWI/20120820', 'properties': {'system:time_start': 1345420800000, 'system:time_end': 1346112000000, 'system:index': '20120820'}}, {'type': 'Image', 'bands': [{'id': 'NDWI', 'data_type': {'type': 'PixelType', 'precision': 'float', 'min': -1, 'max': 1}, 'crs': 'EPSG:4326', 'crs_transform': [1, 0, 0, 0, 1, 0]}], 'version': 1658247289935615, 'id': 'LANDSAT/LE07/C01/T1_8DAY_NDWI/20120828', 'properties': {'system:time_start': 1346112000000, 'system:time_end': 1346803200000, 'system:index': '20120828'}}, {'type': 'Image', 'bands': [{'id': 'NDWI', 'data_type': {'type': 'PixelType', 'precision': 'float', 'min': -1, 'max': 1}, 'crs': 'EPSG:4326', 'crs_transform': [1, 0, 0, 0, 1, 0]}], 'version': 1658247289935615, 'id': 'LANDSAT/LE07/C01/T1_8DAY_NDWI/20120905', 'properties': {'system:time_start': 1346803200000, 'system:time_end': 1347494400000, 'system:index': '20120905'}}, {'type': 'Image', 'bands': [{'id': 'NDWI', 'data_type': {'type': 'PixelType', 'precision': 'float', 'min': -1, 'max': 1}, 'crs': 'EPSG:4326', 'crs_transform': [1, 0, 0, 0, 1, 0]}], 'version': 1658247289935615, 'id': 'LANDSAT/LE07/C01/T1_8DAY_NDWI/20120913', 'properties': {'system:time_start': 1347494400000, 'system:time_end': 1348185600000, 'system:index': '20120913'}}, {'type': 'Image', 'bands': [{'id': 'NDWI', 'data_type': {'type': 'PixelType', 'precision': 'float', 'min': -1, 'max': 1}, 'crs': 'EPSG:4326', 'crs_transform': [1, 0, 0, 0, 1, 0]}], 'version': 1658247289935615, 'id': 'LANDSAT/LE07/C01/T1_8DAY_NDWI/20120921', 'properties': {'system:time_start': 1348185600000, 'system:time_end': 1348876800000, 'system:index': '20120921'}}, {'type': 'Image', 'bands': [{'id': 'NDWI', 'data_type': {'type': 'PixelType', 'precision': 'float', 'min': -1, 'max': 1}, 'crs': 'EPSG:4326', 'crs_transform': [1, 0, 0, 0, 1, 0]}], 'version': 1658247289935615, 'id': 'LANDSAT/LE07/C01/T1_8DAY_NDWI/20120929', 'properties': {'system:time_start': 1348876800000, 'system:time_end': 1349568000000, 'system:index': '20120929'}}, {'type': 'Image', 'bands': [{'id': 'NDWI', 'data_type': {'type': 'PixelType', 'precision': 'float', 'min': -1, 'max': 1}, 'crs': 'EPSG:4326', 'crs_transform': [1, 0, 0, 0, 1, 0]}], 'version': 1658247289935615, 'id': 'LANDSAT/LE07/C01/T1_8DAY_NDWI/20121007', 'properties': {'system:time_start': 1349568000000, 'system:time_end': 1350259200000, 'system:index': '20121007'}}, {'type': 'Image', 'bands': [{'id': 'NDWI', 'data_type': {'type': 'PixelType', 'precision': 'float', 'min': -1, 'max': 1}, 'crs': 'EPSG:4326', 'crs_transform': [1, 0, 0, 0, 1, 0]}], 'version': 1658247289935615, 'id': 'LANDSAT/LE07/C01/T1_8DAY_NDWI/20121015', 'properties': {'system:time_start': 1350259200000, 'system:time_end': 1350950400000, 'system:index': '20121015'}}, {'type': 'Image', 'bands': [{'id': 'NDWI', 'data_type': {'type': 'PixelType', 'precision': 'float', 'min': -1, 'max': 1}, 'crs': 'EPSG:4326', 'crs_transform': [1, 0, 0, 0, 1, 0]}], 'version': 1658247289935615, 'id': 'LANDSAT/LE07/C01/T1_8DAY_NDWI/20121023', 'properties': {'system:time_start': 1350950400000, 'system:time_end': 1351641600000, 'system:index': '20121023'}}]}\n"
     ]
    }
   ],
   "source": [
    "## Quality Control Test, Does Image Conform to Specified Paramters\n",
    "\n",
    "# pull image collection from landsat database, filter for dates, and create a mean image of collection\n",
    "    # mean image used to account for images with no overpass\n",
    "testmean = ee.ImageCollection('LANDSAT/LE07/C01/T1_8DAY_NDWI').filter(ee.Filter.date(startDate, endDate)).mean()\n",
    "print(testmean.getInfo()) # test if returns an image object\n",
    "\n",
    "# pull full image collection \n",
    "test = ee.ImageCollection('LANDSAT/LE07/C01/T1_8DAY_NDWI').filter(ee.Filter.date(startDate, endDate))\n",
    "print(test.getInfo()) # test if returns image collection object"
   ]
  },
  {
   "cell_type": "code",
   "execution_count": null,
   "id": "73655542-8941-490f-8440-cc53ab09c38b",
   "metadata": {},
   "outputs": [],
   "source": [
    "## Single Image Quality Control Export\n",
    "\n",
    "# clip image to area polygon and specify output parameters\n",
    "    # can use region parameter to specify output in replace of .clip()\n",
    "task = ee.batch.Export.image.toDrive(image = testmean.clip(interestArea),\n",
    "                                     description = 'qc single image test',\n",
    "                                     folder = 'Stanis Testing', # make sure you create a folder in associated drive called \"Stanis Testing\" or whatever folder is assigned\n",
    "                                     fileNamePrefix = 'QCtestmean2region',\n",
    "                                     # region = interestArea,\n",
    "                                     scale = 30,\n",
    "                                     crs = 'EPSG:4326',\n",
    "                                     fileFormat = 'GeoTIFF')\n",
    "task.start()"
   ]
  },
  {
   "cell_type": "code",
   "execution_count": 9,
   "id": "f0c03de9-ef32-4999-a512-a3a6b3e6cb32",
   "metadata": {},
   "outputs": [],
   "source": [
    "## Image Collection Quality Control Export\n",
    "    # for image collections cant use .clip() have to use region parameter\n",
    "\n",
    "task = geetools.batch.Export.imagecollection.toDrive(collection = test,\n",
    "                                                     folder = 'Stanis Testing', # can't specify folders with in folders\n",
    "                                                     region = interestArea,\n",
    "                                                     namePattern = npattern,\n",
    "                                                     scale = 30,\n",
    "                                                     crs = 'EPSG:4326',\n",
    "                                                     fileFormat = 'GeoTIFF')"
   ]
  },
  {
   "cell_type": "code",
   "execution_count": 40,
   "id": "c14d6c06-6b29-4a98-99c7-7de086abdba1",
   "metadata": {},
   "outputs": [
    {
     "name": "stdout",
     "output_type": "stream",
     "text": [
      "Help on function Date.format in Date:\n",
      "\n",
      "Date.format(*args, **kwargs)\n",
      "    Convert a date to string.\n",
      "    \n",
      "    Args:\n",
      "      date:\n",
      "      format: A pattern, as described at http://joda-time.sourceforge\n",
      "          .net/apidocs/org/joda/time/format/DateTimeFormat.html; if\n",
      "          omitted will use ISO standard date formatting.\n",
      "      timeZone: The time zone (e.g. 'America/Los_Angeles');\n",
      "          defaults to UTC.\n",
      "\n",
      "Help on function toDrive in module geetools.batch.imagecollection:\n",
      "\n",
      "toDrive(collection, folder, namePattern='{id}', scale=30, dataType='float', region=None, datePattern=None, extra=None, verbose=False, **kwargs)\n",
      "    Upload all images from one collection to Google Drive. You can use\n",
      "    the same arguments as the original function\n",
      "    ee.batch.export.image.toDrive\n",
      "    \n",
      "    :param collection: Collection to upload\n",
      "    :type collection: ee.ImageCollection\n",
      "    :param folder: Google Drive folder to export the images to\n",
      "    :type folder: str\n",
      "    :param namePattern: pattern for the name.\n",
      "        See geetools.tools.image.make_name function and also\n",
      "        geetools.tools.string.format function\n",
      "    :type namePattern: str\n",
      "    :param scale: scale of the image (side of one pixel). Defults to 30\n",
      "        (Landsat resolution)\n",
      "    :type scale: int\n",
      "    :param dataType: as downloaded images **must** have the same data type\n",
      "        in all bands, you have to set it here. Can be one of: \"float\",\n",
      "        \"double\", \"int\", \"Uint8\", \"Int8\" or a casting function like\n",
      "        *ee.Image.toFloat*\n",
      "    :type dataType: str\n",
      "    :param region: area to upload. Default to the footprint of the first\n",
      "        image in the collection\n",
      "    :type region: ee.Geometry.Rectangle or ee.Feature\n",
      "    :param datePattern: pattern for date if specified in namePattern.\n",
      "        Defaults to 'yyyyMMdd'. See ee.Date.format for more details\n",
      "    :type datePattern: str\n",
      "    :param extra: extra parameters to parse to the name formatter\n",
      "    :type extra: str\n",
      "    :param verbose: print name of each exporting task\n",
      "    :type verbose: bool\n",
      "    :return: list of tasks\n",
      "    :rtype: list\n",
      "\n",
      "Help on function toDrive in module ee.batch:\n",
      "\n",
      "toDrive(image, description='myExportImageTask', folder=None, fileNamePrefix=None, dimensions=None, region=None, scale=None, crs=None, crsTransform=None, maxPixels=None, shardSize=None, fileDimensions=None, skipEmptyTiles=None, fileFormat=None, formatOptions=None, **kwargs)\n",
      "    Creates a task to export an EE Image to Drive.\n",
      "    \n",
      "    Args:\n",
      "      image: The image to be exported.\n",
      "      description: Human-readable name of the task.\n",
      "      folder: The name of a unique folder in your Drive account to\n",
      "          export into. Defaults to the root of the drive.\n",
      "      fileNamePrefix: The Google Drive filename for the export.\n",
      "          Defaults to the name of the task.\n",
      "      dimensions: The dimensions of the exported image. Takes either a\n",
      "          single positive integer as the maximum dimension or \"WIDTHxHEIGHT\"\n",
      "          where WIDTH and HEIGHT are each positive integers.\n",
      "      region: The lon,lat coordinates for a LinearRing or Polygon\n",
      "          specifying the region to export. Can be specified as a nested\n",
      "          lists of numbers or a serialized string. Defaults to the image's\n",
      "          region.\n",
      "      scale: The resolution in meters per pixel. Defaults to the\n",
      "          native resolution of the image assset unless a crsTransform\n",
      "          is specified.\n",
      "      crs: The coordinate reference system of the exported image's\n",
      "          projection. Defaults to the image's default projection.\n",
      "      crsTransform: A comma-separated string of 6 numbers describing\n",
      "          the affine transform of the coordinate reference system of the\n",
      "          exported image's projection, in the order: xScale, xShearing,\n",
      "          xTranslation, yShearing, yScale and yTranslation. Defaults to\n",
      "          the image's native CRS transform.\n",
      "      maxPixels: The maximum allowed number of pixels in the exported\n",
      "          image. The task will fail if the exported region covers more\n",
      "          pixels in the specified projection. Defaults to 100,000,000.\n",
      "      shardSize: Size in pixels of the tiles in which this image will be\n",
      "          computed. Defaults to 256.\n",
      "      fileDimensions: The dimensions in pixels of each image file, if the\n",
      "          image is too large to fit in a single file. May specify a\n",
      "          single number to indicate a square shape, or a tuple of two\n",
      "          dimensions to indicate (width,height). Note that the image will\n",
      "          still be clipped to the overall image dimensions. Must be a\n",
      "          multiple of shardSize.\n",
      "      skipEmptyTiles: If true, skip writing empty (i.e. fully-masked)\n",
      "          image tiles. Defaults to false.\n",
      "      fileFormat: The string file format to which the image is exported.\n",
      "          Currently only 'GeoTIFF' and 'TFRecord' are supported, defaults to\n",
      "          'GeoTIFF'.\n",
      "      formatOptions: A dictionary of string keys to format specific options.\n",
      "      **kwargs: Holds other keyword arguments that may have been deprecated\n",
      "          such as 'crs_transform', 'driveFolder', and 'driveFileNamePrefix'.\n",
      "    \n",
      "    Returns:\n",
      "      An unstarted Task that exports the image to Drive.\n",
      "\n"
     ]
    }
   ],
   "source": [
    "## Help Functions\n",
    "\n",
    "help(ee.Date.format)\n",
    "help(geetools.batch.Export.imagecollection.toDrive)\n",
    "help(ee.batch.Export.image.toDrive)"
   ]
  },
  {
   "cell_type": "code",
   "execution_count": null,
   "id": "e8aa9029-e7ee-4341-b8ce-e80a5cd6d089",
   "metadata": {},
   "outputs": [],
   "source": []
  }
 ],
 "metadata": {
  "kernelspec": {
   "display_name": "Python 3 (ipykernel)",
   "language": "python",
   "name": "python3"
  },
  "language_info": {
   "codemirror_mode": {
    "name": "ipython",
    "version": 3
   },
   "file_extension": ".py",
   "mimetype": "text/x-python",
   "name": "python",
   "nbconvert_exporter": "python",
   "pygments_lexer": "ipython3",
   "version": "3.10.9"
  }
 },
 "nbformat": 4,
 "nbformat_minor": 5
}
