{
 "cells": [
  {
   "cell_type": "markdown",
   "id": "07f17c0d-42b1-46e9-b540-1ec3dcf5b694",
   "metadata": {},
   "source": [
    "## Google Earth Engine Environment Set Up\n",
    "\n",
    "You will only need to run this script once, authentication persists"
   ]
  },
  {
   "cell_type": "code",
   "execution_count": 1,
   "id": "ced9b3bf-5ed5-4626-8bdb-e3b8f703cca3",
   "metadata": {},
   "outputs": [
    {
     "data": {
      "text/html": [
       "<p>To authorize access needed by Earth Engine, open the following\n",
       "        URL in a web browser and follow the instructions:</p>\n",
       "        <p><a href=https://code.earthengine.google.com/client-auth?scopes=https%3A//www.googleapis.com/auth/earthengine%20https%3A//www.googleapis.com/auth/devstorage.full_control&request_id=nOMlnn-4LsT_dUVIHKgPSSuJi4fbWiGSAM69KvIk7dc&tc=ki7D7URBevvVbKHLGkZj-l5SNw2lsgmyzjKOUREIyl0&cc=f4gkuaKEZHxBJXzXc0kQMsWVN0W79fw0uKNbaGS9X1E>https://code.earthengine.google.com/client-auth?scopes=https%3A//www.googleapis.com/auth/earthengine%20https%3A//www.googleapis.com/auth/devstorage.full_control&request_id=nOMlnn-4LsT_dUVIHKgPSSuJi4fbWiGSAM69KvIk7dc&tc=ki7D7URBevvVbKHLGkZj-l5SNw2lsgmyzjKOUREIyl0&cc=f4gkuaKEZHxBJXzXc0kQMsWVN0W79fw0uKNbaGS9X1E</a></p>\n",
       "        <p>The authorization workflow will generate a code, which you should paste in the box below.</p>\n",
       "        "
      ],
      "text/plain": [
       "<IPython.core.display.HTML object>"
      ]
     },
     "metadata": {},
     "output_type": "display_data"
    },
    {
     "name": "stdin",
     "output_type": "stream",
     "text": [
      "Enter verification code:  4/1AbUR2VPHx6gNY_h46lalizTbH4y2l1ueowMCmPGx7PdTPcbSVjre--zwKB0\n"
     ]
    },
    {
     "name": "stdout",
     "output_type": "stream",
     "text": [
      "\n",
      "Successfully saved authorization token.\n"
     ]
    }
   ],
   "source": [
    "## import package, autheticate and initialize\n",
    "\n",
    "# import earth engine package\n",
    "import ee\n",
    "# trigger the authentication flow.\n",
    "# follow all prompts to get verification code and then enter code where specified\n",
    "ee.Authenticate()\n",
    "# initialize the library.\n",
    "ee.Initialize()"
   ]
  },
  {
   "cell_type": "code",
   "execution_count": 2,
   "id": "bcbf1181-fbf1-461e-b8c3-a9c36b407dfc",
   "metadata": {},
   "outputs": [
    {
     "name": "stdout",
     "output_type": "stream",
     "text": [
      "{'type': 'Image', 'bands': [{'id': 'NDWI', 'data_type': {'type': 'PixelType', 'precision': 'float', 'min': -1, 'max': 1}, 'crs': 'EPSG:4326', 'crs_transform': [1, 0, 0, 0, 1, 0]}], 'version': 1658247301298495, 'id': 'LANDSAT/LC08/C01/T1_8DAY_NDWI/20190509', 'properties': {'system:time_start': 1557360000000, 'system:time_end': 1558051200000, 'system:index': '20190509'}}\n"
     ]
    }
   ],
   "source": [
    "# test if earth engine is working\n",
    "image = ee.Image('LANDSAT/LC08/C01/T1_8DAY_NDWI/20190509')\n",
    "print(image.getInfo()) # this code should print out some metadata"
   ]
  }
 ],
 "metadata": {
  "kernelspec": {
   "display_name": "Python 3 (ipykernel)",
   "language": "python",
   "name": "python3"
  },
  "language_info": {
   "codemirror_mode": {
    "name": "ipython",
    "version": 3
   },
   "file_extension": ".py",
   "mimetype": "text/x-python",
   "name": "python",
   "nbconvert_exporter": "python",
   "pygments_lexer": "ipython3",
   "version": "3.10.9"
  }
 },
 "nbformat": 4,
 "nbformat_minor": 5
}
